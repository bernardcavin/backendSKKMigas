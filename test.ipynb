{
 "cells": [
  {
   "cell_type": "code",
   "execution_count": 3,
   "metadata": {},
   "outputs": [],
   "source": [
    "class Test:\n",
    "    def __init__(self):\n",
    "        self.a = 1\n",
    "        self.b = 2\n",
    "        self.c = 3\n",
    "\n",
    "test = Test()\n",
    "getattr(test, 'a')\n",
    "getattr(None, 'b', None)"
   ]
  },
  {
   "cell_type": "code",
   "execution_count": 8,
   "metadata": {},
   "outputs": [
    {
     "name": "stderr",
     "output_type": "stream",
     "text": [
      "C:\\Users\\Andalas\\AppData\\Local\\Temp\\ipykernel_40332\\1249504043.py:5: MovedIn20Warning: The ``declarative_base()`` function is now available as sqlalchemy.orm.declarative_base(). (deprecated since: 2.0) (Background on SQLAlchemy 2.0 at: https://sqlalche.me/e/b8d9)\n",
      "  Base = declarative_base()\n",
      "C:\\Users\\Andalas\\AppData\\Local\\Temp\\ipykernel_40332\\1249504043.py:49: SAWarning: Flushing object <BaseModel at 0x19736f7acf0> with incompatible polymorphic identity 'basetest'; the object may not refresh and/or load correctly (this warning may be suppressed after 10 occurrences)\n",
      "  session.commit()\n"
     ]
    },
    {
     "ename": "AssertionError",
     "evalue": "No such polymorphic_identity 'basetest' is defined",
     "output_type": "error",
     "traceback": [
      "\u001b[1;31m---------------------------------------------------------------------------\u001b[0m",
      "\u001b[1;31mKeyError\u001b[0m                                  Traceback (most recent call last)",
      "File \u001b[1;32md:\\Aplikasi SKK Migas\\Backend\\.venv\\Lib\\site-packages\\sqlalchemy\\orm\\loading.py:1459\u001b[0m, in \u001b[0;36m_decorate_polymorphic_switch.<locals>.configure_subclass_mapper\u001b[1;34m(discriminator)\u001b[0m\n\u001b[0;32m   1458\u001b[0m \u001b[38;5;28;01mtry\u001b[39;00m:\n\u001b[1;32m-> 1459\u001b[0m     sub_mapper \u001b[38;5;241m=\u001b[39m \u001b[43mmapper\u001b[49m\u001b[38;5;241;43m.\u001b[39;49m\u001b[43mpolymorphic_map\u001b[49m\u001b[43m[\u001b[49m\u001b[43mdiscriminator\u001b[49m\u001b[43m]\u001b[49m\n\u001b[0;32m   1460\u001b[0m \u001b[38;5;28;01mexcept\u001b[39;00m \u001b[38;5;167;01mKeyError\u001b[39;00m:\n",
      "\u001b[1;31mKeyError\u001b[0m: 'basetest'",
      "\nDuring handling of the above exception, another exception occurred:\n",
      "\u001b[1;31mAssertionError\u001b[0m                            Traceback (most recent call last)",
      "Cell \u001b[1;32mIn[8], line 52\u001b[0m\n\u001b[0;32m     49\u001b[0m session\u001b[38;5;241m.\u001b[39mcommit()\n\u001b[0;32m     51\u001b[0m \u001b[38;5;66;03m# Querying\u001b[39;00m\n\u001b[1;32m---> 52\u001b[0m all_instances \u001b[38;5;241m=\u001b[39m \u001b[43msession\u001b[49m\u001b[38;5;241;43m.\u001b[39;49m\u001b[43mquery\u001b[49m\u001b[43m(\u001b[49m\u001b[43mBaseModel\u001b[49m\u001b[43m)\u001b[49m\u001b[38;5;241;43m.\u001b[39;49m\u001b[43mall\u001b[49m\u001b[43m(\u001b[49m\u001b[43m)\u001b[49m\n\u001b[0;32m     53\u001b[0m \u001b[38;5;28;01mfor\u001b[39;00m instance \u001b[38;5;129;01min\u001b[39;00m all_instances:\n\u001b[0;32m     54\u001b[0m     \u001b[38;5;28mprint\u001b[39m(instance\u001b[38;5;241m.\u001b[39mid, instance\u001b[38;5;241m.\u001b[39mtype)\n",
      "File \u001b[1;32md:\\Aplikasi SKK Migas\\Backend\\.venv\\Lib\\site-packages\\sqlalchemy\\orm\\query.py:2673\u001b[0m, in \u001b[0;36mQuery.all\u001b[1;34m(self)\u001b[0m\n\u001b[0;32m   2651\u001b[0m \u001b[38;5;28;01mdef\u001b[39;00m \u001b[38;5;21mall\u001b[39m(\u001b[38;5;28mself\u001b[39m) \u001b[38;5;241m-\u001b[39m\u001b[38;5;241m>\u001b[39m List[_T]:\n\u001b[0;32m   2652\u001b[0m \u001b[38;5;250m    \u001b[39m\u001b[38;5;124;03m\"\"\"Return the results represented by this :class:`_query.Query`\u001b[39;00m\n\u001b[0;32m   2653\u001b[0m \u001b[38;5;124;03m    as a list.\u001b[39;00m\n\u001b[0;32m   2654\u001b[0m \n\u001b[1;32m   (...)\u001b[0m\n\u001b[0;32m   2671\u001b[0m \u001b[38;5;124;03m        :meth:`_engine.Result.scalars` - v2 comparable method.\u001b[39;00m\n\u001b[0;32m   2672\u001b[0m \u001b[38;5;124;03m    \"\"\"\u001b[39;00m\n\u001b[1;32m-> 2673\u001b[0m     \u001b[38;5;28;01mreturn\u001b[39;00m \u001b[38;5;28;43mself\u001b[39;49m\u001b[38;5;241;43m.\u001b[39;49m\u001b[43m_iter\u001b[49m\u001b[43m(\u001b[49m\u001b[43m)\u001b[49m\u001b[38;5;241;43m.\u001b[39;49m\u001b[43mall\u001b[49m\u001b[43m(\u001b[49m\u001b[43m)\u001b[49m\n",
      "File \u001b[1;32md:\\Aplikasi SKK Migas\\Backend\\.venv\\Lib\\site-packages\\sqlalchemy\\engine\\result.py:1769\u001b[0m, in \u001b[0;36mScalarResult.all\u001b[1;34m(self)\u001b[0m\n\u001b[0;32m   1761\u001b[0m \u001b[38;5;28;01mdef\u001b[39;00m \u001b[38;5;21mall\u001b[39m(\u001b[38;5;28mself\u001b[39m) \u001b[38;5;241m-\u001b[39m\u001b[38;5;241m>\u001b[39m Sequence[_R]:\n\u001b[0;32m   1762\u001b[0m \u001b[38;5;250m    \u001b[39m\u001b[38;5;124;03m\"\"\"Return all scalar values in a sequence.\u001b[39;00m\n\u001b[0;32m   1763\u001b[0m \n\u001b[0;32m   1764\u001b[0m \u001b[38;5;124;03m    Equivalent to :meth:`_engine.Result.all` except that\u001b[39;00m\n\u001b[1;32m   (...)\u001b[0m\n\u001b[0;32m   1767\u001b[0m \n\u001b[0;32m   1768\u001b[0m \u001b[38;5;124;03m    \"\"\"\u001b[39;00m\n\u001b[1;32m-> 1769\u001b[0m     \u001b[38;5;28;01mreturn\u001b[39;00m \u001b[38;5;28;43mself\u001b[39;49m\u001b[38;5;241;43m.\u001b[39;49m\u001b[43m_allrows\u001b[49m\u001b[43m(\u001b[49m\u001b[43m)\u001b[49m\n",
      "File \u001b[1;32md:\\Aplikasi SKK Migas\\Backend\\.venv\\Lib\\site-packages\\sqlalchemy\\engine\\result.py:548\u001b[0m, in \u001b[0;36mResultInternal._allrows\u001b[1;34m(self)\u001b[0m\n\u001b[0;32m    544\u001b[0m post_creational_filter \u001b[38;5;241m=\u001b[39m \u001b[38;5;28mself\u001b[39m\u001b[38;5;241m.\u001b[39m_post_creational_filter\n\u001b[0;32m    546\u001b[0m make_row \u001b[38;5;241m=\u001b[39m \u001b[38;5;28mself\u001b[39m\u001b[38;5;241m.\u001b[39m_row_getter\n\u001b[1;32m--> 548\u001b[0m rows \u001b[38;5;241m=\u001b[39m \u001b[38;5;28;43mself\u001b[39;49m\u001b[38;5;241;43m.\u001b[39;49m\u001b[43m_fetchall_impl\u001b[49m\u001b[43m(\u001b[49m\u001b[43m)\u001b[49m\n\u001b[0;32m    549\u001b[0m made_rows: List[_InterimRowType[_R]]\n\u001b[0;32m    550\u001b[0m \u001b[38;5;28;01mif\u001b[39;00m make_row:\n",
      "File \u001b[1;32md:\\Aplikasi SKK Migas\\Backend\\.venv\\Lib\\site-packages\\sqlalchemy\\engine\\result.py:1676\u001b[0m, in \u001b[0;36mFilterResult._fetchall_impl\u001b[1;34m(self)\u001b[0m\n\u001b[0;32m   1675\u001b[0m \u001b[38;5;28;01mdef\u001b[39;00m \u001b[38;5;21m_fetchall_impl\u001b[39m(\u001b[38;5;28mself\u001b[39m) \u001b[38;5;241m-\u001b[39m\u001b[38;5;241m>\u001b[39m List[_InterimRowType[Row[Any]]]:\n\u001b[1;32m-> 1676\u001b[0m     \u001b[38;5;28;01mreturn\u001b[39;00m \u001b[38;5;28;43mself\u001b[39;49m\u001b[38;5;241;43m.\u001b[39;49m\u001b[43m_real_result\u001b[49m\u001b[38;5;241;43m.\u001b[39;49m\u001b[43m_fetchall_impl\u001b[49m\u001b[43m(\u001b[49m\u001b[43m)\u001b[49m\n",
      "File \u001b[1;32md:\\Aplikasi SKK Migas\\Backend\\.venv\\Lib\\site-packages\\sqlalchemy\\engine\\result.py:2270\u001b[0m, in \u001b[0;36mIteratorResult._fetchall_impl\u001b[1;34m(self)\u001b[0m\n\u001b[0;32m   2268\u001b[0m     \u001b[38;5;28mself\u001b[39m\u001b[38;5;241m.\u001b[39m_raise_hard_closed()\n\u001b[0;32m   2269\u001b[0m \u001b[38;5;28;01mtry\u001b[39;00m:\n\u001b[1;32m-> 2270\u001b[0m     \u001b[38;5;28;01mreturn\u001b[39;00m \u001b[38;5;28;43mlist\u001b[39;49m\u001b[43m(\u001b[49m\u001b[38;5;28;43mself\u001b[39;49m\u001b[38;5;241;43m.\u001b[39;49m\u001b[43miterator\u001b[49m\u001b[43m)\u001b[49m\n\u001b[0;32m   2271\u001b[0m \u001b[38;5;28;01mfinally\u001b[39;00m:\n\u001b[0;32m   2272\u001b[0m     \u001b[38;5;28mself\u001b[39m\u001b[38;5;241m.\u001b[39m_soft_close()\n",
      "File \u001b[1;32md:\\Aplikasi SKK Migas\\Backend\\.venv\\Lib\\site-packages\\sqlalchemy\\orm\\loading.py:223\u001b[0m, in \u001b[0;36minstances.<locals>.chunks\u001b[1;34m(size)\u001b[0m\n\u001b[0;32m    221\u001b[0m \u001b[38;5;28;01mif\u001b[39;00m single_entity:\n\u001b[0;32m    222\u001b[0m     proc \u001b[38;5;241m=\u001b[39m process[\u001b[38;5;241m0\u001b[39m]\n\u001b[1;32m--> 223\u001b[0m     rows \u001b[38;5;241m=\u001b[39m [\u001b[43mproc\u001b[49m\u001b[43m(\u001b[49m\u001b[43mrow\u001b[49m\u001b[43m)\u001b[49m \u001b[38;5;28;01mfor\u001b[39;00m row \u001b[38;5;129;01min\u001b[39;00m fetch]\n\u001b[0;32m    224\u001b[0m \u001b[38;5;28;01melse\u001b[39;00m:\n\u001b[0;32m    225\u001b[0m     rows \u001b[38;5;241m=\u001b[39m [\n\u001b[0;32m    226\u001b[0m         \u001b[38;5;28mtuple\u001b[39m([proc(row) \u001b[38;5;28;01mfor\u001b[39;00m proc \u001b[38;5;129;01min\u001b[39;00m process]) \u001b[38;5;28;01mfor\u001b[39;00m row \u001b[38;5;129;01min\u001b[39;00m fetch\n\u001b[0;32m    227\u001b[0m     ]\n",
      "File \u001b[1;32md:\\Aplikasi SKK Migas\\Backend\\.venv\\Lib\\site-packages\\sqlalchemy\\orm\\loading.py:1487\u001b[0m, in \u001b[0;36m_decorate_polymorphic_switch.<locals>.polymorphic_instance\u001b[1;34m(row)\u001b[0m\n\u001b[0;32m   1485\u001b[0m discriminator \u001b[38;5;241m=\u001b[39m getter(row)\n\u001b[0;32m   1486\u001b[0m \u001b[38;5;28;01mif\u001b[39;00m discriminator \u001b[38;5;129;01mis\u001b[39;00m \u001b[38;5;129;01mnot\u001b[39;00m \u001b[38;5;28;01mNone\u001b[39;00m:\n\u001b[1;32m-> 1487\u001b[0m     _instance \u001b[38;5;241m=\u001b[39m \u001b[43mpolymorphic_instances\u001b[49m\u001b[43m[\u001b[49m\u001b[43mdiscriminator\u001b[49m\u001b[43m]\u001b[49m\n\u001b[0;32m   1488\u001b[0m     \u001b[38;5;28;01mif\u001b[39;00m _instance:\n\u001b[0;32m   1489\u001b[0m         \u001b[38;5;28;01mreturn\u001b[39;00m _instance(row)\n",
      "File \u001b[1;32md:\\Aplikasi SKK Migas\\Backend\\.venv\\Lib\\site-packages\\sqlalchemy\\util\\_collections.py:345\u001b[0m, in \u001b[0;36mPopulateDict.__missing__\u001b[1;34m(self, key)\u001b[0m\n\u001b[0;32m    344\u001b[0m \u001b[38;5;28;01mdef\u001b[39;00m \u001b[38;5;21m__missing__\u001b[39m(\u001b[38;5;28mself\u001b[39m, key: Any) \u001b[38;5;241m-\u001b[39m\u001b[38;5;241m>\u001b[39m Any:\n\u001b[1;32m--> 345\u001b[0m     \u001b[38;5;28mself\u001b[39m[key] \u001b[38;5;241m=\u001b[39m val \u001b[38;5;241m=\u001b[39m \u001b[38;5;28;43mself\u001b[39;49m\u001b[38;5;241;43m.\u001b[39;49m\u001b[43mcreator\u001b[49m\u001b[43m(\u001b[49m\u001b[43mkey\u001b[49m\u001b[43m)\u001b[49m\n\u001b[0;32m    346\u001b[0m     \u001b[38;5;28;01mreturn\u001b[39;00m val\n",
      "File \u001b[1;32md:\\Aplikasi SKK Migas\\Backend\\.venv\\Lib\\site-packages\\sqlalchemy\\orm\\loading.py:1461\u001b[0m, in \u001b[0;36m_decorate_polymorphic_switch.<locals>.configure_subclass_mapper\u001b[1;34m(discriminator)\u001b[0m\n\u001b[0;32m   1459\u001b[0m     sub_mapper \u001b[38;5;241m=\u001b[39m mapper\u001b[38;5;241m.\u001b[39mpolymorphic_map[discriminator]\n\u001b[0;32m   1460\u001b[0m \u001b[38;5;28;01mexcept\u001b[39;00m \u001b[38;5;167;01mKeyError\u001b[39;00m:\n\u001b[1;32m-> 1461\u001b[0m     \u001b[38;5;28;01mraise\u001b[39;00m \u001b[38;5;167;01mAssertionError\u001b[39;00m(\n\u001b[0;32m   1462\u001b[0m         \u001b[38;5;124m\"\u001b[39m\u001b[38;5;124mNo such polymorphic_identity \u001b[39m\u001b[38;5;132;01m%r\u001b[39;00m\u001b[38;5;124m is defined\u001b[39m\u001b[38;5;124m\"\u001b[39m \u001b[38;5;241m%\u001b[39m discriminator\n\u001b[0;32m   1463\u001b[0m     )\n\u001b[0;32m   1464\u001b[0m \u001b[38;5;28;01melse\u001b[39;00m:\n\u001b[0;32m   1465\u001b[0m     \u001b[38;5;28;01mif\u001b[39;00m sub_mapper \u001b[38;5;129;01mis\u001b[39;00m mapper:\n",
      "\u001b[1;31mAssertionError\u001b[0m: No such polymorphic_identity 'basetest' is defined"
     ]
    }
   ],
   "source": [
    "from sqlalchemy import Column, Integer, String, create_engine, ForeignKey\n",
    "from sqlalchemy.ext.declarative import declarative_base\n",
    "from sqlalchemy.orm import sessionmaker, relationship\n",
    "\n",
    "Base = declarative_base()\n",
    "\n",
    "class BaseModel(Base):\n",
    "    __tablename__ = 'base_model'\n",
    "    id = Column(Integer, primary_key=True)\n",
    "    type = Column(String)\n",
    "\n",
    "    __mapper_args__ = {\n",
    "        'polymorphic_identity': 'base',\n",
    "        'polymorphic_on': type\n",
    "    }\n",
    "\n",
    "class DerivedModelA(BaseModel):\n",
    "    __tablename__ = 'derived_model_a'\n",
    "    id = Column(Integer, ForeignKey('base_model.id'), primary_key=True)\n",
    "    additional_field_a = Column(String)\n",
    "\n",
    "    __mapper_args__ = {\n",
    "        'polymorphic_identity': 'derived_a',\n",
    "    }\n",
    "\n",
    "class DerivedModelB(BaseModel):\n",
    "    __tablename__ = 'derived_model_b'\n",
    "    id = Column(Integer, ForeignKey('base_model.id'), primary_key=True)\n",
    "    additional_field_b = Column(String)\n",
    "\n",
    "    __mapper_args__ = {\n",
    "        'polymorphic_identity': 'derived_b',\n",
    "    }\n",
    "\n",
    "# Setup the database\n",
    "engine = create_engine('sqlite:///:memory:')\n",
    "Base.metadata.create_all(engine)\n",
    "Session = sessionmaker(bind=engine)\n",
    "session = Session()\n",
    "\n",
    "# Example usage\n",
    "derived_a_instance = DerivedModelA(additional_field_a=\"Value A\")\n",
    "derived_b_instance = DerivedModelB(additional_field_b=\"Value B\")\n",
    "base_model = BaseModel(type=\"basetest\")\n",
    "\n",
    "session.add(base_model)\n",
    "session.add(derived_a_instance)\n",
    "session.add(derived_b_instance)\n",
    "session.commit()\n",
    "\n",
    "# Querying\n",
    "all_instances = session.query(BaseModel).all()\n",
    "for instance in all_instances:\n",
    "    print(instance.id, instance.type)\n"
   ]
  }
 ],
 "metadata": {
  "kernelspec": {
   "display_name": ".venv",
   "language": "python",
   "name": "python3"
  },
  "language_info": {
   "codemirror_mode": {
    "name": "ipython",
    "version": 3
   },
   "file_extension": ".py",
   "mimetype": "text/x-python",
   "name": "python",
   "nbconvert_exporter": "python",
   "pygments_lexer": "ipython3",
   "version": "3.12.6"
  }
 },
 "nbformat": 4,
 "nbformat_minor": 2
}
